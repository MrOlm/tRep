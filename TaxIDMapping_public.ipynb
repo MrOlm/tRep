{
 "cells": [
  {
   "cell_type": "code",
   "execution_count": 1,
   "metadata": {},
   "outputs": [],
   "source": [
    "from Bio.SeqIO import parse\n",
    "import pandas as pd"
   ]
  },
  {
   "cell_type": "markdown",
   "metadata": {},
   "source": [
    "## Load Translation table\n",
    "\n",
    "(Downloaded from ftp://ftp.uniprot.org/pub/databases/uniprot/current_release/knowledgebase/idmapping/idmapping_selected.tab.gz)"
   ]
  },
  {
   "cell_type": "code",
   "execution_count": null,
   "metadata": {},
   "outputs": [],
   "source": [
    "cols = ['1. UniProtKB-AC', '2. UniProtKB-ID', '3. GeneID (EntrezGene)', '4. RefSeq', '5. GI', '6. PDB', '7. GO', '8. UniRef100', '9. UniRef90', '10. UniRef50', '11. UniParc', '12. PIR', '13. NCBI-taxon', '14. MIM', '15. UniGene', '16. PubMed', '17. EMBL', '18. EMBL-CDS', '19. Ensembl', '20. Ensembl_TRS', '21. Ensembl_PRO', '22. Additional PubMed']\n",
    "cols = [c.split()[1] for c in cols]\n",
    "db = pd.read_csv('/LAB_DATA/DATABASES/UniRef100/idmapping_selected.tab.gz', sep='\\t', names=cols, usecols=['UniRef100', 'NCBI-taxon'], dtype={'UniRef100':str, 'NCBI-taxon':int})\n",
    "\n",
    "# Make it into a dictionary\n",
    "db = db.set_index('UniRef100')['NCBI-taxon'].to_dict()\n"
   ]
  },
  {
   "cell_type": "markdown",
   "metadata": {},
   "source": [
    "## Make a new .fasta for UniRef\n",
    "\n",
    "(Original location downloaded from ftp://ftp.uniprot.org/pub/databases/uniprot/uniref/uniref100/uniref100.fasta.gz)"
   ]
  },
  {
   "cell_type": "code",
   "execution_count": null,
   "metadata": {},
   "outputs": [],
   "source": [
    "new_loc = '/LAB_DATA/DATABASES/UniRef100/uniref100.translated.fasta' # The location where you want the translated database to end up\n",
    "ori_loc = '/LAB_DATA/DATABASES/UniRef100/uniref100.fasta' # The loactaion of the orginal databased (link above)\n",
    "translation_table = '/LAB_DATA/DATABASES/UniRef100/uniref100.ttable' # The location of where you want a translation table to be created\n",
    "\n",
    "o = open(new_loc, 'w')\n",
    "t = open(translation_table, 'w')\n",
    "\n",
    "for record in parse(ori_loc, 'fasta'):\n",
    "    # Get new taxID\n",
    "    \n",
    "    try:\n",
    "        new_ID = db[record.id]\n",
    "    except KeyError:\n",
    "        new_ID = None\n",
    "    \n",
    "    # Get UniRef ID\n",
    "    newid = (record.id).split(\"_\")[-1]\n",
    "    \n",
    "    # Get UniRef TaxID\n",
    "    try:\n",
    "        taxid = [x.split(\"=\")[1] for x in (record.description).split(\" \") if \"TaxID\" in x][0]\n",
    "    except IndexError:\n",
    "        taxid = None\n",
    "        \n",
    "    # make new ID\n",
    "    # Order is UniRef100 ID; taxID from the translation table; taxID from the UniRef100 description\n",
    "    fasta_id = \"{0}_{1}_{2}\".format(newid, new_ID, taxid)\n",
    "    \n",
    "    # Write\n",
    "    o.write(\">{0}\\n{1}\\n\".format(fasta_id,str(record.seq)))  # Write record with new id)\n",
    "    t.write(\"{0}\\t{1}\\n\".format(fasta_id, record.description))\n",
    "    \n",
    "o.close()\n",
    "t.close()"
   ]
  },
  {
   "cell_type": "code",
   "execution_count": null,
   "metadata": {},
   "outputs": [],
   "source": []
  }
 ],
 "metadata": {
  "kernelspec": {
   "display_name": "Python 3",
   "language": "python",
   "name": "python3"
  },
  "language_info": {
   "codemirror_mode": {
    "name": "ipython",
    "version": 3
   },
   "file_extension": ".py",
   "mimetype": "text/x-python",
   "name": "python",
   "nbconvert_exporter": "python",
   "pygments_lexer": "ipython3",
   "version": "3.7.6"
  }
 },
 "nbformat": 4,
 "nbformat_minor": 4
}
